{
 "cells": [
  {
   "cell_type": "markdown",
   "metadata": {},
   "source": [
    "# Benchmark – Designing Data Mining Using CRISP-DM #"
   ]
  },
  {
   "cell_type": "markdown",
   "metadata": {},
   "source": [
    "## 1. Define CRISP-DM and the Step Cycles ##\n",
    "\n",
    "CRISP-DM Framework: CRISP-DM (Cross Industry Standard Process for Data Mining) is a process model that provides a structured approach for planning a data mining project. It has six phases:\n",
    "\n",
    "Business Understanding: Define the problem you are solving.\n",
    "\n",
    "Data Understanding: Collect and explore the data.\n",
    "\n",
    "Data Preparation: Clean and prepare the data for analysis.\n",
    "\n",
    "Modeling: Choose and apply appropriate modeling techniques.\n",
    "\n",
    "Evaluation: Assess the model’s quality and ensure it meets business objectives.\n",
    "\n",
    "Deployment: Deploy the model into the real world or integrate it with other systems.\n"
   ]
  },
  {
   "cell_type": "markdown",
   "metadata": {},
   "source": [
    "## 2. Identify Business Understanding, Data, and Data Preparation ##\n",
    "\n",
    "Business Understanding: We aim to predict a student’s final exam score based on their midterm score. This can help educators identify students at risk of performing poorly in their finals.\n",
    "\n",
    "Data Understanding: The dataset contains 12 students with their midterm and final exam scores.\n",
    "There is a slight variation in performance between the midterm and final exams.\n",
    "\n",
    "Data Preparation: Since the dataset is small and contains no missing values or obvious outliers, no extensive cleaning is necessary. The data is already numeric and doesn’t require scaling.\n"
   ]
  },
  {
   "cell_type": "code",
   "execution_count": 3,
   "metadata": {},
   "outputs": [],
   "source": [
    "# Importing necessary libraries for the analysis\n",
    "import numpy as np\n",
    "import pandas as pd\n",
    "import matplotlib.pyplot as plt\n",
    "from sklearn.linear_model import LinearRegression\n",
    "\n",
    "# Given Midterm and Final Exam data\n",
    "data = {\n",
    "    'Midterm Exam (X)': [72, 50, 81, 74, 94, 86, 59, 83, 65, 33, 88, 81],\n",
    "    'Final Exam (Y)': [84, 63, 77, 78, 90, 75, 49, 79, 77, 52, 74, 90]\n",
    "}\n",
    "\n",
    "# Creating a DataFrame\n",
    "df = pd.DataFrame(data)"
   ]
  },
  {
   "cell_type": "markdown",
   "metadata": {},
   "source": [
    "The \"Midterm and Final Exams Table\" provided contains two columns:\n",
    "\n",
    "X (Midterm Exam Scores): Midterm scores of the students.\n",
    "Y (Final Exam Scores): Final exam scores of the students.\n",
    "Here’s the dataset from the document you can see the entire dataset in df.head it has only 12 X and Y values."
   ]
  },
  {
   "cell_type": "code",
   "execution_count": 4,
   "metadata": {},
   "outputs": [
    {
     "data": {
      "text/plain": [
       "<bound method NDFrame.head of     Midterm Exam (X)  Final Exam (Y)\n",
       "0                 72              84\n",
       "1                 50              63\n",
       "2                 81              77\n",
       "3                 74              78\n",
       "4                 94              90\n",
       "5                 86              75\n",
       "6                 59              49\n",
       "7                 83              79\n",
       "8                 65              77\n",
       "9                 33              52\n",
       "10                88              74\n",
       "11                81              90>"
      ]
     },
     "execution_count": 4,
     "metadata": {},
     "output_type": "execute_result"
    }
   ],
   "source": [
    "df.head"
   ]
  },
  {
   "cell_type": "code",
   "execution_count": 5,
   "metadata": {},
   "outputs": [
    {
     "data": {
      "text/plain": [
       "(12, 2)"
      ]
     },
     "execution_count": 5,
     "metadata": {},
     "output_type": "execute_result"
    }
   ],
   "source": [
    "df.shape"
   ]
  },
  {
   "cell_type": "code",
   "execution_count": 6,
   "metadata": {},
   "outputs": [
    {
     "data": {
      "text/plain": [
       "<bound method DataFrame.info of     Midterm Exam (X)  Final Exam (Y)\n",
       "0                 72              84\n",
       "1                 50              63\n",
       "2                 81              77\n",
       "3                 74              78\n",
       "4                 94              90\n",
       "5                 86              75\n",
       "6                 59              49\n",
       "7                 83              79\n",
       "8                 65              77\n",
       "9                 33              52\n",
       "10                88              74\n",
       "11                81              90>"
      ]
     },
     "execution_count": 6,
     "metadata": {},
     "output_type": "execute_result"
    }
   ],
   "source": [
    "df.info"
   ]
  },
  {
   "cell_type": "markdown",
   "metadata": {},
   "source": [
    "## 3. Create a Model That Justifies the Data Prepared ##\n",
    "The model required here is linear regression, a simple and widely-used method for modeling the relationship between two variables: in this case, midterm scores (independent variable) and final scores (dependent variable).\n",
    "\n",
    "Justification: Linear regression helps to identify a linear relationship between the midterm and final grades, which is appropriate given the nature of the data.\n",
    "Equation: The linear regression equation is of the form \n",
    "\n",
    "Y=mX+b, where:\n",
    "\n",
    "Y is the predicted final exam score.\n",
    "\n",
    "X is the midterm score.\n",
    "\n",
    "m is the slope of the line.\n",
    "\n",
    "b is the intercept."
   ]
  },
  {
   "cell_type": "code",
   "execution_count": 7,
   "metadata": {},
   "outputs": [
    {
     "data": {
      "text/html": [
       "<style>#sk-container-id-1 {color: black;}#sk-container-id-1 pre{padding: 0;}#sk-container-id-1 div.sk-toggleable {background-color: white;}#sk-container-id-1 label.sk-toggleable__label {cursor: pointer;display: block;width: 100%;margin-bottom: 0;padding: 0.3em;box-sizing: border-box;text-align: center;}#sk-container-id-1 label.sk-toggleable__label-arrow:before {content: \"▸\";float: left;margin-right: 0.25em;color: #696969;}#sk-container-id-1 label.sk-toggleable__label-arrow:hover:before {color: black;}#sk-container-id-1 div.sk-estimator:hover label.sk-toggleable__label-arrow:before {color: black;}#sk-container-id-1 div.sk-toggleable__content {max-height: 0;max-width: 0;overflow: hidden;text-align: left;background-color: #f0f8ff;}#sk-container-id-1 div.sk-toggleable__content pre {margin: 0.2em;color: black;border-radius: 0.25em;background-color: #f0f8ff;}#sk-container-id-1 input.sk-toggleable__control:checked~div.sk-toggleable__content {max-height: 200px;max-width: 100%;overflow: auto;}#sk-container-id-1 input.sk-toggleable__control:checked~label.sk-toggleable__label-arrow:before {content: \"▾\";}#sk-container-id-1 div.sk-estimator input.sk-toggleable__control:checked~label.sk-toggleable__label {background-color: #d4ebff;}#sk-container-id-1 div.sk-label input.sk-toggleable__control:checked~label.sk-toggleable__label {background-color: #d4ebff;}#sk-container-id-1 input.sk-hidden--visually {border: 0;clip: rect(1px 1px 1px 1px);clip: rect(1px, 1px, 1px, 1px);height: 1px;margin: -1px;overflow: hidden;padding: 0;position: absolute;width: 1px;}#sk-container-id-1 div.sk-estimator {font-family: monospace;background-color: #f0f8ff;border: 1px dotted black;border-radius: 0.25em;box-sizing: border-box;margin-bottom: 0.5em;}#sk-container-id-1 div.sk-estimator:hover {background-color: #d4ebff;}#sk-container-id-1 div.sk-parallel-item::after {content: \"\";width: 100%;border-bottom: 1px solid gray;flex-grow: 1;}#sk-container-id-1 div.sk-label:hover label.sk-toggleable__label {background-color: #d4ebff;}#sk-container-id-1 div.sk-serial::before {content: \"\";position: absolute;border-left: 1px solid gray;box-sizing: border-box;top: 0;bottom: 0;left: 50%;z-index: 0;}#sk-container-id-1 div.sk-serial {display: flex;flex-direction: column;align-items: center;background-color: white;padding-right: 0.2em;padding-left: 0.2em;position: relative;}#sk-container-id-1 div.sk-item {position: relative;z-index: 1;}#sk-container-id-1 div.sk-parallel {display: flex;align-items: stretch;justify-content: center;background-color: white;position: relative;}#sk-container-id-1 div.sk-item::before, #sk-container-id-1 div.sk-parallel-item::before {content: \"\";position: absolute;border-left: 1px solid gray;box-sizing: border-box;top: 0;bottom: 0;left: 50%;z-index: -1;}#sk-container-id-1 div.sk-parallel-item {display: flex;flex-direction: column;z-index: 1;position: relative;background-color: white;}#sk-container-id-1 div.sk-parallel-item:first-child::after {align-self: flex-end;width: 50%;}#sk-container-id-1 div.sk-parallel-item:last-child::after {align-self: flex-start;width: 50%;}#sk-container-id-1 div.sk-parallel-item:only-child::after {width: 0;}#sk-container-id-1 div.sk-dashed-wrapped {border: 1px dashed gray;margin: 0 0.4em 0.5em 0.4em;box-sizing: border-box;padding-bottom: 0.4em;background-color: white;}#sk-container-id-1 div.sk-label label {font-family: monospace;font-weight: bold;display: inline-block;line-height: 1.2em;}#sk-container-id-1 div.sk-label-container {text-align: center;}#sk-container-id-1 div.sk-container {/* jupyter's `normalize.less` sets `[hidden] { display: none; }` but bootstrap.min.css set `[hidden] { display: none !important; }` so we also need the `!important` here to be able to override the default hidden behavior on the sphinx rendered scikit-learn.org. See: https://github.com/scikit-learn/scikit-learn/issues/21755 */display: inline-block !important;position: relative;}#sk-container-id-1 div.sk-text-repr-fallback {display: none;}</style><div id=\"sk-container-id-1\" class=\"sk-top-container\"><div class=\"sk-text-repr-fallback\"><pre>LinearRegression()</pre><b>In a Jupyter environment, please rerun this cell to show the HTML representation or trust the notebook. <br />On GitHub, the HTML representation is unable to render, please try loading this page with nbviewer.org.</b></div><div class=\"sk-container\" hidden><div class=\"sk-item\"><div class=\"sk-estimator sk-toggleable\"><input class=\"sk-toggleable__control sk-hidden--visually\" id=\"sk-estimator-id-1\" type=\"checkbox\" checked><label for=\"sk-estimator-id-1\" class=\"sk-toggleable__label sk-toggleable__label-arrow\">LinearRegression</label><div class=\"sk-toggleable__content\"><pre>LinearRegression()</pre></div></div></div></div></div>"
      ],
      "text/plain": [
       "LinearRegression()"
      ]
     },
     "execution_count": 7,
     "metadata": {},
     "output_type": "execute_result"
    }
   ],
   "source": [
    "X = df['Midterm Exam (X)'].values.reshape(-1, 1)  # Reshaping X into a 2D array\n",
    "Y = df['Final Exam (Y)'].values  # Y is already a 1D array, no need for reshaping\n",
    "\n",
    "# Building the linear regression model\n",
    "model = LinearRegression()\n",
    "model.fit(X, Y)"
   ]
  },
  {
   "cell_type": "markdown",
   "metadata": {},
   "source": [
    "## Model Evaluation and Deployment ##"
   ]
  },
  {
   "cell_type": "code",
   "execution_count": 8,
   "metadata": {},
   "outputs": [
    {
     "data": {
      "text/plain": [
       "array([73.90306665, 61.10786495, 79.13746735, 75.06626681, 86.69826836,\n",
       "       82.04546774, 66.34226565, 80.30066751, 69.83186611, 51.22066364,\n",
       "       83.20866789, 79.13746735])"
      ]
     },
     "execution_count": 8,
     "metadata": {},
     "output_type": "execute_result"
    }
   ],
   "source": [
    "\n",
    "# Predicting Final Exam scores based on Midterm Exam scores\n",
    "Y_pred = model.predict(X)\n",
    "Y_pred\n"
   ]
  },
  {
   "cell_type": "code",
   "execution_count": 9,
   "metadata": {},
   "outputs": [
    {
     "data": {
      "text/plain": [
       "array([84, 63, 77, 78, 90, 75, 49, 79, 77, 52, 74, 90])"
      ]
     },
     "execution_count": 9,
     "metadata": {},
     "output_type": "execute_result"
    }
   ],
   "source": [
    "Y"
   ]
  },
  {
   "cell_type": "code",
   "execution_count": 21,
   "metadata": {},
   "outputs": [
    {
     "name": "stdout",
     "output_type": "stream",
     "text": [
      "Slope (m): 0.5816000773918931\n",
      "Intercept (b): 32.02786108155171\n"
     ]
    }
   ],
   "source": [
    "\n",
    "# Calculating slope (m) and intercept (b) for the regression equation\n",
    "slope = model.coef_[0]\n",
    "intercept = model.intercept_\n",
    "\n",
    "print(f\"Slope (m): {slope}\")\n",
    "print(f\"Intercept (b): {intercept}\")"
   ]
  },
  {
   "cell_type": "markdown",
   "metadata": {},
   "source": [
    "## 4. Analyze the Results from the Model and Deploy the Data ##\n",
    "Model Summary: The slope of the regression line is approximately 0.58, meaning that for every point increase in the midterm exam score, the final exam score increases by approximately 0.58 points. The intercept is 32.03, indicating that a student with a midterm score of 0 would still score around 32 on the final exam.\n",
    "\n",
    "Deployment: The model could be used to predict final exam scores for future students based on their midterm performance, enabling educators to identify students who may need intervention."
   ]
  },
  {
   "cell_type": "markdown",
   "metadata": {},
   "source": [
    "R-squared represents the proportion of the variance in the dependent variable (final exam scores) that is predictable from the independent variable (midterm exam scores). It ranges from 0 to 1, where:\n",
    "\n",
    "•\tR² = 1: The model perfectly fits the data.\n",
    "\n",
    "•\tR² = 0: The model does not explain any variability in the data.\n",
    "\n",
    "Formula for R-squared\n",
    "The formula for R2 is:\n",
    "\n",
    "R2=1−∑(Yi−Y^i)2∑(Yi−Yˉ)2\n",
    "\n",
    "Where:\n",
    "•\tYi is the actual value,\n",
    "•\tY^i is the predicted value from the regression,\n",
    "•\tYˉ is the mean of the actual values.\n"
   ]
  },
  {
   "cell_type": "code",
   "execution_count": 11,
   "metadata": {},
   "outputs": [
    {
     "name": "stdout",
     "output_type": "stream",
     "text": [
      "R-squared value: 0.61\n"
     ]
    }
   ],
   "source": [
    "# Calculating the R-squared value\n",
    "r_squared = model.score(X, Y)\n",
    "\n",
    "# Displaying the R-squared value\n",
    "print(f\"R-squared value: {r_squared:.2f}\")\n"
   ]
  },
  {
   "cell_type": "markdown",
   "metadata": {},
   "source": [
    "The R-squared value of 0.6 indicates a linear relationship between the Midterm Exam (X) and the Final Exam (Y). The R-squared value might be much better with enough data. The closer the R-squared value is to 1, the better the results."
   ]
  },
  {
   "cell_type": "code",
   "execution_count": 19,
   "metadata": {},
   "outputs": [
    {
     "name": "stdout",
     "output_type": "stream",
     "text": [
      "RMSE: 7.83\n",
      "MSE: 61.37\n"
     ]
    }
   ],
   "source": [
    "from sklearn.metrics import mean_squared_error\n",
    "# Calculate Mean Squared Error (MSE)\n",
    "mse = mean_squared_error(Y, Y_pred)\n",
    "\n",
    "# Calculate Root Mean Squared Error (RMSE)\n",
    "rmse = np.sqrt(mse)\n",
    "\n",
    "# Displaying RMSE\n",
    "print(f\"RMSE: {rmse:.2f}\")\n",
    "print(f\"MSE: {mse:.2f}\")"
   ]
  },
  {
   "cell_type": "markdown",
   "metadata": {},
   "source": [
    "The RMSE value is bigger , which is totally make sense  we have only 12 datapoints if we have enough data we might get better results the lesse the RMSR the better the results are more reliable."
   ]
  },
  {
   "cell_type": "markdown",
   "metadata": {},
   "source": [
    "## 5. Plot the Data: Do X and Y Seem to Have a Linear Relationship? ##\n",
    "The scatter plot of midterm scores (X) and final exam scores (Y) shows a linear trend, and the red line represents the fitted linear regression model. This indicates a linear relationship between the two variables."
   ]
  },
  {
   "cell_type": "code",
   "execution_count": 13,
   "metadata": {},
   "outputs": [
    {
     "data": {
      "image/png": "[encoded data removed]",
      "text/plain": [
       "<Figure size 640x480 with 1 Axes>"
      ]
     },
     "metadata": {},
     "output_type": "display_data"
    }
   ],
   "source": [
    "# Plotting the data and the linear regression model\n",
    "plt.scatter(X, Y, color='blue', label='Data Points')\n",
    "plt.plot(X, Y_pred, color='red', label='Regression Line')\n",
    "plt.title('Midterm vs Final Exam Scores')\n",
    "plt.xlabel('Midterm Exam Scores')\n",
    "plt.ylabel('Final Exam Scores')\n",
    "plt.legend()\n",
    "plt.grid(True)\n",
    "plt.show()\n"
   ]
  },
  {
   "cell_type": "markdown",
   "metadata": {},
   "source": [
    "## 6. Use the Method of Least Squares to Find the Equation for the Prediction ##\n",
    "The method of least squares was used to derive the equation:\n",
    "\n",
    "Final Exam Score=0.58×Midterm Exam Score+32.03"
   ]
  },
  {
   "cell_type": "code",
   "execution_count": 14,
   "metadata": {},
   "outputs": [
    {
     "data": {
      "text/plain": [
       "array([82.04546774])"
      ]
     },
     "execution_count": 14,
     "metadata": {},
     "output_type": "execute_result"
    }
   ],
   "source": [
    "# Prediction for a student who scored 86 on the midterm\n",
    "predicted_final_exam_86 = model.predict([[86]])\n",
    "predicted_final_exam_86"
   ]
  },
  {
   "cell_type": "markdown",
   "metadata": {},
   "source": [
    "## 7. Predict the Final Exam Grade of a Student Who Received 86% on the Midterm Exam ##\n",
    "Using the equation derived, we predicted that a student who scored 86% on the midterm exam would have a final exam score of approximately 82.05."
   ]
  },
  {
   "cell_type": "markdown",
   "metadata": {},
   "source": [
    "# Report: Predicting Final Exam Scores Using CRISP-DM #\n",
    "1. Introduction\n",
    "\n",
    "The Cross-Industry Standard Process for Data Mining (CRISP-DM) is a widely-used methodology for data mining projects. It offers a robust framework for organizing the data mining process, emphasizing a structured, systematic approach. In this report, we will apply CRISP-DM stages to predict a student’s final exam grade based on their midterm grade. The stages include business understanding, data understanding, data preparation, modeling, evaluation, and deployment.\n",
    "\n",
    "2. CRISP-DM and Step Cycles\n",
    "\n",
    "CRISP-DM involves six major phases:\n",
    "\n",
    "Business Understanding: The primary objective is to use student performance data (midterm scores) to predict final exam grades. This prediction can help educators intervene early, offering guidance to students at risk of underperforming.\n",
    "Data Understanding: Data includes midterm and final exam scores of 12 students. No missing values or anomalous data points are present. This simplicity makes the dataset ideal for linear regression.\n",
    "Data Preparation: Preprocessing involves ensuring that data is clean, numeric, and properly formatted for use in a linear regression model. The midterm scores (X) will be the independent variable, and the final exam scores (Y) will be the dependent variable.\n",
    "Modeling: A linear regression model is chosen to predict final exam grades based on midterm grades. This is justified because we seek to explore the relationship between two continuous variables.\n",
    "Evaluation: Once the model is built, its performance will be evaluated using statistical metrics like R-squared to assess how well it fits the data.\n",
    "Deployment: Finally, the model will be deployed to predict the final exam grade for any given midterm score, specifically for a student who scored 86% on the midterm.\n",
    "CRISP-DM’s hierarchical process involves different abstraction levels: abstraction phase, generic tasks, specialized tasks, and process interface, ensuring a logical flow from problem identification to solution deployment.\n",
    "\n",
    "3. Business Understanding, Data, and Data Preparation\n",
    "\n",
    "Business Understanding\n",
    "\n",
    "The business problem is to predict students' final exam grades based on their midterm performance. The objective is twofold:\n",
    "\n",
    "Provide educators with a model to identify students likely to perform poorly in the final exams.\n",
    "Use this information for timely interventions, such as offering extra tutoring or study resources.\n",
    "Data Understanding\n",
    "\n",
    "The dataset consists of two key variables: midterm and final exam scores of 12 students. Here's a snapshot of the data:\n",
    "\n",
    "Midterm Exam (X)\tFinal Exam (Y)\n",
    "72\t                   84\n",
    "50\t                   63\n",
    "81\t                   77\n",
    "74\t                   78\n",
    "94\t                   90\n",
    "86\t                   75\n",
    "59\t                   49\n",
    "83\t                   79\n",
    "65\t                   77\n",
    "33\t                   52\n",
    "88\t                   74\n",
    "81\t                   90\n",
    "\n",
    "Data Preparation\n",
    "\n",
    "The data is already numeric and well-formatted, which makes preprocessing relatively simple. We reshaped the independent variable \n",
    "X\n",
    "X (Midterm Scores) to ensure it’s a 2D array suitable for linear regression. No missing or anomalous values were found.\n",
    "\n",
    "4. Model Creation\n",
    "\n",
    "A linear regression model was created using the method of least squares, which minimizes the sum of squared differences between observed values and predicted values. This method is particularly well-suited for modeling the relationship between two continuous variables, such as midterm and final exam scores.\n",
    "\n",
    "Model Equation:\n",
    "\n",
    "Final Exam Score=0.58×Midterm Exam Score+32.03\n",
    "\n",
    "This equation indicates that for every 1-point increase in the midterm exam score, the final exam score increases by approximately 0.58 points. The intercept of 32.03 means that a student who scored 0 on the midterm would still be expected to score about 32 on the final.\n",
    "\n",
    "5. Analyze the Results from the Model and Deploy the Data\n",
    "\n",
    "Analysis of the Results\n",
    "\n",
    "The model was evaluated using the R-squared statistic, which measures how well the regression line fits the data. The closer the R-squared value is to 1, the better the model fits the data. In this case, the R-squared value indicates a reasonably strong linear relationship between midterm and final exam scores.\n",
    "\n",
    "Deployment\n",
    "\n",
    "With the linear regression model, we can now predict final exam scores for students based on their midterm scores. This can help educational institutions track students' progress and take corrective actions.\n",
    "\n",
    "For example, a student who scored 86% on the midterm is predicted to score approximately 82.05% on the final exam. The equation can be easily applied to other students' data to make similar predictions.\n",
    "\n",
    "6. Plotting the Data: Linear Relationship\n",
    "\n",
    "We plotted the midterm scores (X) against the final exam scores (Y) to visually assess the relationship between the two variables. The scatter plot shows a positive linear relationship, confirming that higher midterm scores are generally associated with higher final exam scores.\n",
    "\n",
    "The fitted linear regression line further highlights this trend, illustrating that the model effectively captures the relationship between the two variables.\n",
    "\n",
    "7. Method of Least Squares and Equation for Prediction\n",
    "\n",
    "The method of least squares was used to derive the equation of the regression line. The goal is to minimize the sum of the squared differences between the observed final exam scores and the predicted final exam scores.\n",
    "\n",
    "The resulting regression equation is:\n",
    "\n",
    "Final Exam Score=0.58×Midterm Exam Score+32.03\n",
    "\n",
    "This equation serves as the foundation for predicting final exam scores based on midterm performance.\n",
    "\n",
    "8. Prediction of Final Exam Score for a Student Who Scored 86% on the Midterm\n",
    "\n",
    "Using the derived regression equation, we predicted the final exam score for a student who scored 86% on the midterm exam:\n",
    "\n",
    "Final Exam Score=0.58×86+32.03=82.05\n",
    "\n",
    "Thus, a student who scored 86% on the midterm is expected to score approximately 82.05% on the final exam.\n",
    "\n",
    "9. Conclusion\n",
    "\n",
    "By following the CRISP-DM framework, we were able to systematically approach the problem of predicting final exam scores based on midterm scores. The linear regression model demonstrated a strong linear relationship between the two variables, providing a simple but effective tool for educational institutions. This model can be used to identify students at risk of underperforming in final exams, allowing for timely interventions.\n",
    "\n",
    "The model's equation and visualized data show that midterm scores are a good predictor of final exam performance, supporting the idea that consistent performance across assessments is an important indicator of overall success."
   ]
  },
  {
   "cell_type": "markdown",
   "metadata": {},
   "source": [
    "References:\n",
    "\n",
    "Chapman, P., Clinton, J., Kerber, R., Khabaza, T., Reinartz, T., Shearer, C., & Wirth, R. (2000). CRISP-DM 1.0: Step-by-step data mining guide. SPSS Inc.\n",
    "\n",
    "Data Science Process Alliance. (2024, April 28). CRISP-DM: A data mining methodology. Data Science Process Alliance. https://www.datascience-pm.com/crisp-dm-2/"
   ]
  }
 ],
 "metadata": {
  "kernelspec": {
   "display_name": "Python 3",
   "language": "python",
   "name": "python3"
  },
  "language_info": {
   "codemirror_mode": {
    "name": "ipython",
    "version": 3
   },
   "file_extension": ".py",
   "mimetype": "text/x-python",
   "name": "python",
   "nbconvert_exporter": "python",
   "pygments_lexer": "ipython3",
   "version": "3.11.5"
  }
 },
 "nbformat": 4,
 "nbformat_minor": 2
}
